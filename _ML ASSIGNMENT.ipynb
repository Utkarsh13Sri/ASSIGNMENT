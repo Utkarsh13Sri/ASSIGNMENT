{
 "cells": [
  {
   "cell_type": "raw",
   "metadata": {},
   "source": [
    "# 1.Write a python function which should be capable of finding the factorial of any given number as an\n",
    "argument"
   ]
  },
  {
   "cell_type": "code",
   "execution_count": 1,
   "metadata": {},
   "outputs": [
    {
     "name": "stdout",
     "output_type": "stream",
     "text": [
      "ENTER THE NUMBER U NEED FACTORIAL OF  5\n",
      "factorial of given number is  120\n"
     ]
    }
   ],
   "source": [
    "def fact(n):\n",
    "    if n==0:\n",
    "        return 1\n",
    "    else:\n",
    "        return n*fact(n-1)\n",
    "Num=int(input(\"ENTER THE NUMBER U NEED FACTORIAL OF  \"))\n",
    "if Num<0:\n",
    "    print(\"there is no factorial of negative number sorry\")\n",
    "elif Num==(0 or 1):\n",
    "    print(\"factorial of  0 and 1 is always 1\")\n",
    "else:\n",
    "    print(\"factorial of given number is \" ,fact(Num))"
   ]
  },
  {
   "cell_type": "raw",
   "metadata": {},
   "source": [
    "Create a function which takes a number as its argument and return the number of digits in it. Use\n",
    "of len function is not allowed. For example for 5 it should return 1, for 32 it should return 2 and 123 ,\n",
    "3 should be returned and so"
   ]
  },
  {
   "cell_type": "code",
   "execution_count": 2,
   "metadata": {},
   "outputs": [
    {
     "name": "stdout",
     "output_type": "stream",
     "text": [
      "ENTER THE NUMBER TO GET ITS LENGTH 546\n",
      "length  of given number is  3\n"
     ]
    }
   ],
   "source": [
    "def count (n):\n",
    "    if n==0:\n",
    "        print(\"INVALID TRY AGAIN!!!\")\n",
    "    else:\n",
    "        count=0\n",
    "    while n>0:\n",
    "        n=n//10\n",
    "        count=count+1\n",
    "    return count\n",
    "num=int(input(\"ENTER THE NUMBER TO GET ITS LENGTH \"))\n",
    "print(\"length  of given number is \", count(num))"
   ]
  },
  {
   "cell_type": "code",
   "execution_count": 29,
   "metadata": {},
   "outputs": [
    {
     "data": {
      "text/plain": [
       "3"
      ]
     },
     "execution_count": 29,
     "metadata": {},
     "output_type": "execute_result"
    }
   ],
   "source": [
    "\n",
    "count(642)"
   ]
  },
  {
   "cell_type": "markdown",
   "metadata": {},
   "source": [
    "Write a function which accepts 3 arguments from the user.1 .number 1, 2. Number2 and 3. An\n",
    "operation. The operation supported should be +, -, *, and /. The function should return the result of\n",
    "given operation. For example arguments are 3,2,+ then result returned should be 5."
   ]
  },
  {
   "cell_type": "code",
   "execution_count": 1,
   "metadata": {},
   "outputs": [],
   "source": [
    "def cal(a,b,c):\n",
    "    if c == \"+\":\n",
    "        return a+b\n",
    "    elif c== \"-\":\n",
    "        return a-b\n",
    "    elif c==\"*\":\n",
    "        return a*b\n",
    "    elif c==\"/\":\n",
    "        return a/b\n",
    "    else:\n",
    "        print('''INVALID OPERATOR \n",
    "        BETTER LUCK NEXT TIME''')\n"
   ]
  },
  {
   "cell_type": "code",
   "execution_count": 3,
   "metadata": {},
   "outputs": [
    {
     "name": "stdout",
     "output_type": "stream",
     "text": [
      "ENTER THE FIRST OPERAND: 5\n",
      "ENTER THE SECOND OPERAND : 6\n",
      "ENTER THE OPERATOR FORM +,-,*./ ONLY OTHERWISE U WILL GET AN ERROR: +\n",
      "LETS START THE AIRTHEMATIC CALULATION:  11\n"
     ]
    }
   ],
   "source": [
    "OPERAND_A=int(input(\"ENTER THE FIRST OPERAND: \"))\n",
    "OPERAND_B=int(input(\"ENTER THE SECOND OPERAND : \"))\n",
    "OPERATOR=str(input(\"ENTER THE OPERATOR FORM +,-,*./ ONLY OTHERWISE U WILL GET AN ERROR: \"))\n",
    "print(\"LETS START THE AIRTHEMATIC CALULATION: \",cal(OPERAND_A,OPERAND_B,OPERATOR))"
   ]
  },
  {
   "cell_type": "markdown",
   "metadata": {},
   "source": [
    "4. Write a function which takes a number as argument suppose 5 and gives results as multiplication\n",
    "of factorial of each positive number less than or equal to the number given. i.e !5*!4*!3*!2*!1 =\n",
    "."
   ]
  },
  {
   "cell_type": "code",
   "execution_count": 32,
   "metadata": {},
   "outputs": [
    {
     "name": "stdout",
     "output_type": "stream",
     "text": [
      "ENTER THE NUMBER FOR FACTORIAL :5\n",
      "34560\n"
     ]
    }
   ],
   "source": [
    "def fact(n):\n",
    "    f=1\n",
    "    while(n!=0):\n",
    "        f=f*(n)\n",
    "        n = n-1\n",
    "    return f\n",
    "def prod_fact(b):\n",
    "    p=1\n",
    "    while(b!=0):\n",
    "        p=p*fact(b)\n",
    "        b=b-1\n",
    "    print(p)\n",
    "num=int(input(\"ENTER THE NUMBER FOR FACTORIAL :\"))\n",
    "prod_fact(num)"
   ]
  },
  {
   "cell_type": "code",
   "execution_count": null,
   "metadata": {},
   "outputs": [],
   "source": []
  },
  {
   "cell_type": "code",
   "execution_count": null,
   "metadata": {},
   "outputs": [],
   "source": []
  }
 ],
 "metadata": {
  "kernelspec": {
   "display_name": "Python 3",
   "language": "python",
   "name": "python3"
  },
  "language_info": {
   "codemirror_mode": {
    "name": "ipython",
    "version": 3
   },
   "file_extension": ".py",
   "mimetype": "text/x-python",
   "name": "python",
   "nbconvert_exporter": "python",
   "pygments_lexer": "ipython3",
   "version": "3.8.5"
  }
 },
 "nbformat": 4,
 "nbformat_minor": 4
}
